{
 "cells": [
  {
   "cell_type": "code",
   "execution_count": 28,
   "outputs": [
    {
     "data": {
      "text/plain": "'004'"
     },
     "execution_count": 28,
     "metadata": {},
     "output_type": "execute_result"
    }
   ],
   "source": [
    "name = 'cndsj/004.mp4'\n",
    "aa = name[-7:-4]\n",
    "aa"
   ],
   "metadata": {
    "collapsed": false,
    "pycharm": {
     "name": "#%%\n"
    }
   }
  },
  {
   "cell_type": "code",
   "execution_count": 31,
   "outputs": [
    {
     "ename": "TypeError",
     "evalue": "unsupported operand type(s) for /: 'str' and 'str'",
     "output_type": "error",
     "traceback": [
      "\u001B[0;31m---------------------------------------------------------------------------\u001B[0m",
      "\u001B[0;31mTypeError\u001B[0m                                 Traceback (most recent call last)",
      "\u001B[0;32m<ipython-input-31-1ec8bd66bd42>\u001B[0m in \u001B[0;36m<module>\u001B[0;34m\u001B[0m\n\u001B[0;32m----> 1\u001B[0;31m \u001B[0mbb\u001B[0m \u001B[0;34m=\u001B[0m \u001B[0mstr\u001B[0m\u001B[0;34m(\u001B[0m\u001B[0;34m'xsxsc'\u001B[0m \u001B[0;34m/\u001B[0m \u001B[0;34m'eval_seq'\u001B[0m \u001B[0;34m+\u001B[0m \u001B[0maa\u001B[0m \u001B[0;34m+\u001B[0m \u001B[0;34m'.txt'\u001B[0m\u001B[0;34m)\u001B[0m\u001B[0;34m\u001B[0m\u001B[0;34m\u001B[0m\u001B[0m\n\u001B[0m\u001B[1;32m      2\u001B[0m \u001B[0mbb\u001B[0m\u001B[0;34m\u001B[0m\u001B[0;34m\u001B[0m\u001B[0m\n",
      "\u001B[0;31mTypeError\u001B[0m: unsupported operand type(s) for /: 'str' and 'str'"
     ]
    }
   ],
   "source": [
    "bb = str('xsxsc' / 'eval_seq' + aa + '.txt')\n",
    "bb"
   ],
   "metadata": {
    "collapsed": false,
    "pycharm": {
     "name": "#%%\n"
    }
   }
  },
  {
   "cell_type": "code",
   "execution_count": 5,
   "outputs": [],
   "source": [
    "import cv2\n",
    "import time\n",
    "\n",
    "\n",
    "#相机参数设置\n",
    "def Setcamera(cap):\n",
    "    cap.set(6,cv2.VideoWriter.fourcc('M','J','P','G'))\n",
    "    # cap.set(3,960)\n",
    "    # cap.set(4,960)\n",
    "\n",
    "fourcc = cv2.VideoWriter_fourcc(*'MJPG')\n",
    "out = cv2.VideoWriter('output.avi',fourcc, 20.0, (640,480))\n",
    "\n",
    "cap = cv2.VideoCapture(0)\n",
    "Setcamera(cap)\n",
    "# 每0.1S计算一次帧率\n",
    "t = 0.1\n",
    "counter = 0\n",
    "fps = 0\n",
    "frame_idx = 0\n",
    "start_time = time.time()\n",
    "while(True):\n",
    "    ret, frame = cap.read()\n",
    "    img = frame.copy()\n",
    "    # time.sleep(0.05)  # Delay module\n",
    "    #测帧率\n",
    "    counter += 1\n",
    "    if (time.time() - start_time) > t:\n",
    "        fps = counter / (time.time() - start_time)\n",
    "        fps = str(fps)\n",
    "        counter = 0\n",
    "        start_time = time.time()\n",
    "    cv2.putText(frame, \"FPS {0}\" .format(fps), (10, 30), 1, 1.5, (255, 0, 255), 2)\n",
    "    cv2.putText(frame, \"FRAME {0}\" .format(frame_idx), (10, 50), 1, 1.5, (255, 0, 255), 2)\n",
    "    cv2.imshow('frame',frame)\n",
    "    out.write(frame)\n",
    "    frame_idx += 1\n",
    "    if cv2.waitKey(1)&0xFF ==27:\n",
    "        break\n",
    "\n",
    "cap.release()\n",
    "cv2.destroyAllWindows()"
   ],
   "metadata": {
    "collapsed": false,
    "pycharm": {
     "name": "#%%\n"
    }
   }
  },
  {
   "cell_type": "code",
   "execution_count": 3,
   "outputs": [
    {
     "name": "stdout",
     "output_type": "stream",
     "text": [
      "create\n"
     ]
    }
   ],
   "source": [
    "import os\n",
    "\n",
    "if not os.path.exists('evals/clips/scissors/eval_instance001.txt'):\n",
    "    print(\"create\")"
   ],
   "metadata": {
    "collapsed": false,
    "pycharm": {
     "name": "#%%\n"
    }
   }
  },
  {
   "cell_type": "code",
   "execution_count": null,
   "outputs": [],
   "source": [],
   "metadata": {
    "collapsed": false,
    "pycharm": {
     "name": "#%%\n"
    }
   }
  }
 ],
 "metadata": {
  "kernelspec": {
   "display_name": "Python 3",
   "language": "python",
   "name": "python3"
  },
  "language_info": {
   "codemirror_mode": {
    "name": "ipython",
    "version": 2
   },
   "file_extension": ".py",
   "mimetype": "text/x-python",
   "name": "python",
   "nbconvert_exporter": "python",
   "pygments_lexer": "ipython2",
   "version": "2.7.6"
  }
 },
 "nbformat": 4,
 "nbformat_minor": 0
}